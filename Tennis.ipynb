{
 "cells": [
  {
   "cell_type": "markdown",
   "metadata": {},
   "source": [
    "# Collaboration and Competition\n",
    "\n",
    "---\n",
    "\n",
    "In this notebook, you will learn how to use the Unity ML-Agents environment for the third project of the [Deep Reinforcement Learning Nanodegree](https://www.udacity.com/course/deep-reinforcement-learning-nanodegree--nd893) program.\n",
    "\n",
    "### 1. Start the Environment\n",
    "\n",
    "We begin by importing the necessary packages.  If the code cell below returns an error, please revisit the project instructions to double-check that you have installed [Unity ML-Agents](https://github.com/Unity-Technologies/ml-agents/blob/master/docs/Installation.md) and [NumPy](http://www.numpy.org/)."
   ]
  },
  {
   "cell_type": "code",
   "execution_count": 1,
   "metadata": {},
   "outputs": [],
   "source": [
    "from unityagents import UnityEnvironment\n",
    "import numpy as np"
   ]
  },
  {
   "cell_type": "markdown",
   "metadata": {},
   "source": [
    "Next, we will start the environment!  **_Before running the code cell below_**, change the `file_name` parameter to match the location of the Unity environment that you downloaded.\n",
    "\n",
    "- **Mac**: `\"path/to/Tennis.app\"`\n",
    "- **Windows** (x86): `\"path/to/Tennis_Windows_x86/Tennis.exe\"`\n",
    "- **Windows** (x86_64): `\"path/to/Tennis_Windows_x86_64/Tennis.exe\"`\n",
    "- **Linux** (x86): `\"path/to/Tennis_Linux/Tennis.x86\"`\n",
    "- **Linux** (x86_64): `\"path/to/Tennis_Linux/Tennis.x86_64\"`\n",
    "- **Linux** (x86, headless): `\"path/to/Tennis_Linux_NoVis/Tennis.x86\"`\n",
    "- **Linux** (x86_64, headless): `\"path/to/Tennis_Linux_NoVis/Tennis.x86_64\"`\n",
    "\n",
    "For instance, if you are using a Mac, then you downloaded `Tennis.app`.  If this file is in the same folder as the notebook, then the line below should appear as follows:\n",
    "```\n",
    "env = UnityEnvironment(file_name=\"Tennis.app\")\n",
    "```"
   ]
  },
  {
   "cell_type": "code",
   "execution_count": 2,
   "metadata": {},
   "outputs": [
    {
     "name": "stderr",
     "output_type": "stream",
     "text": [
      "INFO:unityagents:\n",
      "'Academy' started successfully!\n",
      "Unity Academy name: Academy\n",
      "        Number of Brains: 1\n",
      "        Number of External Brains : 1\n",
      "        Lesson number : 0\n",
      "        Reset Parameters :\n",
      "\t\t\n",
      "Unity brain name: TennisBrain\n",
      "        Number of Visual Observations (per agent): 0\n",
      "        Vector Observation space type: continuous\n",
      "        Vector Observation space size (per agent): 8\n",
      "        Number of stacked Vector Observation: 3\n",
      "        Vector Action space type: continuous\n",
      "        Vector Action space size (per agent): 2\n",
      "        Vector Action descriptions: , \n"
     ]
    }
   ],
   "source": [
    "env = UnityEnvironment(file_name=\"./Tennis_Windows_x86_64/Tennis.exe\")"
   ]
  },
  {
   "cell_type": "markdown",
   "metadata": {},
   "source": [
    "Environments contain **_brains_** which are responsible for deciding the actions of their associated agents. Here we check for the first brain available, and set it as the default brain we will be controlling from Python."
   ]
  },
  {
   "cell_type": "code",
   "execution_count": 3,
   "metadata": {},
   "outputs": [],
   "source": [
    "# get the default brain\n",
    "brain_name = env.brain_names[0]\n",
    "brain = env.brains[brain_name]"
   ]
  },
  {
   "cell_type": "markdown",
   "metadata": {},
   "source": [
    "### 2. Examine the State and Action Spaces\n",
    "\n",
    "In this environment, two agents control rackets to bounce a ball over a net. If an agent hits the ball over the net, it receives a reward of +0.1.  If an agent lets a ball hit the ground or hits the ball out of bounds, it receives a reward of -0.01.  Thus, the goal of each agent is to keep the ball in play.\n",
    "\n",
    "The observation space consists of 8 variables corresponding to the position and velocity of the ball and racket. Two continuous actions are available, corresponding to movement toward (or away from) the net, and jumping. \n",
    "\n",
    "Run the code cell below to print some information about the environment."
   ]
  },
  {
   "cell_type": "code",
   "execution_count": 4,
   "metadata": {},
   "outputs": [
    {
     "name": "stdout",
     "output_type": "stream",
     "text": [
      "Number of agents: 2\n",
      "Size of each action: 2\n",
      "There are 2 agents. Each observes a state with length: 24\n",
      "The state for the first agent looks like: [ 0.          0.          0.          0.          0.          0.\n",
      "  0.          0.          0.          0.          0.          0.\n",
      "  0.          0.          0.          0.         -6.65278625 -1.5\n",
      " -0.          0.          6.83172083  6.         -0.          0.        ]\n"
     ]
    }
   ],
   "source": [
    "# reset the environment\n",
    "env_info = env.reset(train_mode=True)[brain_name]\n",
    "\n",
    "# number of agents \n",
    "num_agents = len(env_info.agents)\n",
    "print('Number of agents:', num_agents)\n",
    "\n",
    "# size of each action\n",
    "action_size = brain.vector_action_space_size\n",
    "print('Size of each action:', action_size)\n",
    "\n",
    "# examine the state space \n",
    "states = env_info.vector_observations\n",
    "state_size = states.shape[1]\n",
    "print('There are {} agents. Each observes a state with length: {}'.format(states.shape[0], state_size))\n",
    "print('The state for the first agent looks like:', states[0])"
   ]
  },
  {
   "cell_type": "markdown",
   "metadata": {},
   "source": [
    "### 3. Let's play real tennis\n",
    "\n",
    "#### 3.1. Importing modules and adding some jupyter-notebook magic\n",
    "\n",
    "##### 3.1.1. Importing modules"
   ]
  },
  {
   "cell_type": "code",
   "execution_count": 5,
   "metadata": {},
   "outputs": [],
   "source": [
    "from collections import deque, namedtuple\n",
    "import copy\n",
    "import matplotlib.pyplot as plt\n",
    "import numpy as np\n",
    "import pandas as pd\n",
    "import random\n",
    "import torch\n",
    "from torch import nn, optim\n",
    "import torch.nn.functional as F"
   ]
  },
  {
   "cell_type": "markdown",
   "metadata": {},
   "source": [
    "##### 3.1.2. Jupyter-notebook magic\n",
    "\n",
    "The magic is here - let matplotlib in the lines."
   ]
  },
  {
   "cell_type": "code",
   "execution_count": 6,
   "metadata": {},
   "outputs": [],
   "source": [
    "%matplotlib inline"
   ]
  },
  {
   "cell_type": "markdown",
   "metadata": {},
   "source": [
    "#### 3.2. Parameters\n",
    "\n",
    "##### 3.2.1. CONSTANTS\n",
    "\n",
    "The following CONSTANTS influece the training process. Play with them if you're up to."
   ]
  },
  {
   "cell_type": "code",
   "execution_count": 7,
   "metadata": {},
   "outputs": [],
   "source": [
    "BATCH_SIZE = 1024\t\t# Size of the replay buffer.\n",
    "BUFFER_SIZE = int(1e5)\t# Size of the mini batches.\n",
    "GAMMA = 0.99\t\t\t# Discount factor, Gamma.\n",
    "L2_WEIGHT_DECAY = 0\t\t# L2 weight decay.\n",
    "LR_ACTOR = 2e-4\t\t\t# Learning rate of the actor.\n",
    "LR_CRITIC = 1e-3\t\t# Learning rate of the critic.\n",
    "RANDOM_SEED = 12345\t\t# An integer to fire up random generators.\n",
    "TAU = 1e-3\t\t\t\t# Parameter Tau serves to set soft update of target parameters."
   ]
  },
  {
   "cell_type": "markdown",
   "metadata": {},
   "source": [
    "##### 3.2.2. Globally significant variables"
   ]
  },
  {
   "cell_type": "code",
   "execution_count": 8,
   "metadata": {},
   "outputs": [
    {
     "name": "stdout",
     "output_type": "stream",
     "text": [
      "Training on cuda.\n"
     ]
    }
   ],
   "source": [
    "device = torch.device('cuda' if torch.cuda.is_available() else 'cpu')\n",
    "print('Training on {}.'.format(device))"
   ]
  },
  {
   "cell_type": "markdown",
   "metadata": {},
   "source": [
    "#### 3.3. Classes\n",
    "\n",
    "##### 3.3.1. Actor"
   ]
  },
  {
   "cell_type": "code",
   "execution_count": 9,
   "metadata": {},
   "outputs": [],
   "source": [
    "class Actor(nn.Module):\n",
    "    \"\"\"\n",
    "    This class represents an Actor (Policy) Model. It inherts from PyTorch NN Module.\n",
    "    __init__(), forward() and reset_parameters() are overwritten only.\n",
    "    \"\"\"\n",
    "\n",
    "\n",
    "\n",
    "    def __init__(self, state_size, action_size, seed, fc1_units=256, fc2_units=128):\n",
    "        \"\"\"\n",
    "        Initializes the class.\n",
    "        ----------------------\n",
    "        @Params:\tstate_size\t(int)\tCount of state's dimensions.\n",
    "                    action_size\t(int)\tCount of action's dimensions.\n",
    "                    seed\t\t(int)\tRendom seed.\n",
    "                    fc1_size\t(int)\t[optional] Count of nodes in the 1st fully connected layer.\n",
    "                    fc2_size\t(int)\t[optional] Count of nodes in the 2nd fully connected layer.\n",
    "        \"\"\"\n",
    "        super(Actor, self).__init__()\n",
    "\n",
    "        self.seed = torch.manual_seed(seed)\n",
    "        \n",
    "        self.fc1 = nn.Linear(state_size, fc1_units)\n",
    "        self.fc2 = nn.Linear(fc1_units, fc2_units)\n",
    "        self.fc3 = nn.Linear(fc2_units, action_size)\n",
    "        \n",
    "        self.reset_parameters()\n",
    "\n",
    "\n",
    "\n",
    "    def forward(self, state):\n",
    "        \"\"\"\n",
    "        Fordwards the input (state) through the whole network and returns the network's output.\n",
    "        ---------------------------------------------------------------------------------------\n",
    "        @Params:\tstate\t(torch.Tensor)\tInput data (state).\n",
    "        @Return:\t(torch.Tensor)\t\t\tThe output of the network (action).\n",
    "        \"\"\"\n",
    "        x = F.relu(self.fc1(state))\n",
    "        x = F.relu(self.fc2(x))\n",
    "        \n",
    "        return torch.tanh(self.fc3(x))\n",
    "\n",
    "\n",
    "\n",
    "    def reset_parameters(self):\n",
    "        \"\"\"\n",
    "        Resets weights.\n",
    "        ---------------\n",
    "        \"\"\"\n",
    "        self.fc1.weight.data.uniform_(*hidden_init(self.fc1))\n",
    "        self.fc2.weight.data.uniform_(*hidden_init(self.fc2))\n",
    "        self.fc3.weight.data.uniform_(-0.003, 0.003)"
   ]
  },
  {
   "cell_type": "markdown",
   "metadata": {},
   "source": [
    "##### 3.3.2. Agent"
   ]
  },
  {
   "cell_type": "code",
   "execution_count": 10,
   "metadata": {},
   "outputs": [],
   "source": [
    "class Agent(object):\n",
    "    \"\"\"\n",
    "    This class represents an agent who inteacts with the environment and can learn from it.\n",
    "    This class doesn't really have any superclass aside of object which is the top most superclass usually.\n",
    "    \"\"\"\n",
    "\n",
    "\n",
    "\n",
    "    def __init__(self, state_size, action_size, num_agents, random_seed):\n",
    "        \"\"\"\n",
    "        Initializes the class.\n",
    "        ----------------------\n",
    "        @Params:\tstate_size\t\t(int)\tCount of state's dimensions.\n",
    "                    action_size\t\t(int)\tCount of action's dimensions.\n",
    "                    num_agents\t\t(int)\tNumber of agents.\n",
    "                    seed\t\t\t(int)\tRendom seed.\n",
    "        \"\"\"\n",
    "        global BATCH_SIZE\n",
    "        global BUFFER_SIZE\n",
    "        global EPSILON\n",
    "        global LR_ACTOR\n",
    "        global LR_CRITIC\n",
    "        global L2_WEIGHT_DECAY\n",
    "        \n",
    "        global davice\n",
    "        \n",
    "        self.state_size = state_size\n",
    "        self.action_size = action_size\n",
    "        self.num_agents = num_agents\n",
    "        \n",
    "        self.seed = random.seed(random_seed)\n",
    "\n",
    "        self.actor_local = Actor(state_size, action_size, random_seed).to(device)\n",
    "        self.actor_target = Actor(state_size, action_size, random_seed).to(device)\n",
    "        self.actor_optimizer = optim.Adam(self.actor_local.parameters(), lr=LR_ACTOR)\n",
    "\n",
    "        self.critic_local = Critic(state_size, action_size, random_seed).to(device)\n",
    "        self.critic_target = Critic(state_size, action_size, random_seed).to(device)\n",
    "        self.critic_optimizer = optim.Adam(self.critic_local.parameters(), lr=LR_CRITIC, weight_decay=L2_WEIGHT_DECAY)\n",
    "\n",
    "        self.noise = Noise((num_agents, action_size), random_seed)\n",
    "\n",
    "        self.memory = ReplayBuffer(action_size, BUFFER_SIZE, BATCH_SIZE, random_seed)\n",
    "\n",
    "\n",
    "\n",
    "    def act(self, states, act_noisy=True):\n",
    "        \"\"\"\n",
    "        Performs an action from the given state and adds noise actions if needed.\n",
    "        -------------------------------------------------------------------------\n",
    "        @Params:\tstates\t\t(array like)\tCurrent state.\n",
    "                    act_noisy\t(boolean)\t\tWhether to add noise or not.\n",
    "        \"\"\"\n",
    "        global device\n",
    "        \n",
    "        states = torch.from_numpy(states).float().to(device)\n",
    "        actions = np.zeros((self.num_agents, self.action_size))\n",
    "        \n",
    "        self.actor_local.eval()\n",
    "        with torch.no_grad():\n",
    "            for agent_num, state in enumerate(states):\n",
    "                action = self.actor_local(state).cpu().data.numpy()\n",
    "                actions[agent_num, :] = action\n",
    "        self.actor_local.train()\n",
    "        \n",
    "        if act_noisy:\n",
    "            actions += self.noise.sample()\n",
    "        \n",
    "        # Keep valid action samples only.\n",
    "        return np.clip(actions, -1, 1)\n",
    "\n",
    "\n",
    "\n",
    "    def learn(self, experiences, gamma):\n",
    "        \"\"\"\n",
    "        Performs experience based update of parameters.\n",
    "        -----------------------------------------------\n",
    "        @Params:\texperience\t(tuple)\tExperiences to work with.\n",
    "                    gamma\t\t(float)\tThe value of the discount factor.\n",
    "        \"\"\"\n",
    "        global TAU\n",
    "        \n",
    "        states, actions, rewards, next_states, dones = experiences\n",
    "        \n",
    "        # Those lines below serve to calculate targets and Q-values.\n",
    "        actions_next = self.actor_target(next_states)\n",
    "        Q_targets_next = self.critic_target(next_states, actions_next)\n",
    "        Q_targets = rewards + (gamma * Q_targets_next * (1 - dones))\n",
    "        Q_expected = self.critic_local(states, actions)\n",
    "        \n",
    "        # Critic network is updated here.\n",
    "        critic_loss = F.mse_loss(Q_expected, Q_targets)\n",
    "        self.critic_optimizer.zero_grad()\n",
    "        critic_loss.backward()\n",
    "        self.critic_optimizer.step()\n",
    "        \n",
    "        # Finally actor netowrk is updated too with the help of the critic network.\n",
    "        actions_pred = self.actor_local(states)\n",
    "        actor_loss = -self.critic_local(states, actions_pred).mean()\n",
    "        self.actor_optimizer.zero_grad()\n",
    "        actor_loss.backward()\n",
    "        self.actor_optimizer.step()\n",
    "        \n",
    "        # Both actor and critic network need a soft update.\n",
    "        self.soft_update(self.critic_local, self.critic_target, TAU)\n",
    "        self.soft_update(self.actor_local, self.actor_target, TAU)\n",
    "\n",
    "\n",
    "\n",
    "    def reset(self):\n",
    "        \"\"\"\n",
    "        Resets the used noise.\n",
    "        ----------------------\n",
    "        \"\"\"\n",
    "        self.noise.reset()\n",
    "\n",
    "\n",
    "\n",
    "    def soft_update(self, local_model, target_model, tau):\n",
    "        \"\"\"\n",
    "        Performs soft update on model parameters.\n",
    "        -----------------------------------------\n",
    "        @Params:\tlocal_model\t\t(nn.Module)\tModel to copy weights from.\n",
    "                    target_model\t(nn.Module)\tModel to copy weights to.\n",
    "                    tau\t\t\t\t(float)\t\tParameter of interpolation.\n",
    "        \"\"\"\n",
    "        for target_param, local_param in zip(target_model.parameters(), local_model.parameters()):\n",
    "            target_param.data.copy_(tau * local_param.data + (1.0 - tau) * target_param.data)\n",
    "\n",
    "\n",
    "\n",
    "    def step(self, state, action, reward, next_state, done):\n",
    "        \"\"\"\n",
    "        Takes a step in the action-space and calls learning if needed.\n",
    "        --------------------------------------------------------------\n",
    "        @Params:\tstate\t\t(float)\tCurrent state.\n",
    "                    action\t\t(float)\tTaken action.\n",
    "                    reward\t\t(float)\tReceived reward.\n",
    "                    next_state\t(float)\tNext state (resulting state).\n",
    "                    done\t\t(float)\tWhether it's finished or not.\n",
    "        \"\"\"\n",
    "        global BATCH_SIZE\n",
    "        global GAMMA\n",
    "        \n",
    "        for i in range(self.num_agents):\n",
    "            self.memory.add(state[i, :], action[i, :], reward[i], next_state[i, :], done[i])\n",
    "\n",
    "        if len(self.memory) > BATCH_SIZE:\n",
    "            experiences = self.memory.sample()\n",
    "            self.learn(experiences, GAMMA)"
   ]
  },
  {
   "cell_type": "markdown",
   "metadata": {},
   "source": [
    "##### 3.3.3. Critic"
   ]
  },
  {
   "cell_type": "code",
   "execution_count": 11,
   "metadata": {},
   "outputs": [],
   "source": [
    "class Critic(nn.Module):\n",
    "    \"\"\"\n",
    "    This class represents a Critic (Value) Model. It inherts from PyTorch NN Module.\n",
    "    __init__(), forward() and reset_parameters() are overwritten only.\n",
    "    \"\"\"\n",
    "\n",
    "\n",
    "\n",
    "    def __init__(self, state_size, action_size, seed, fc1_units=256, fc2_units=128):\n",
    "        \"\"\"\n",
    "        Initializes the class.\n",
    "        ----------------------\n",
    "        @Params:\tstate_size\t(int)\tCount of state's dimensions.\n",
    "                    action_size\t(int)\tCount of action's dimensions.\n",
    "                    seed\t\t(int)\tRendom seed.\n",
    "                    fc1_size\t(int)\t[optional] Count of nodes in the 1st fully connected layer.\n",
    "                    fc2_size\t(int)\t[optional] Count of nodes in the 2nd fully connected layer.\n",
    "        \"\"\"\n",
    "        super(Critic, self).__init__()\n",
    "\n",
    "        self.seed = torch.manual_seed(seed)\n",
    "        \n",
    "        self.fcs1 = nn.Linear(state_size, fc1_units)\n",
    "        self.fc2 = nn.Linear(fc1_units + action_size, fc2_units)\n",
    "        self.fc3 = nn.Linear(fc2_units, 1)\n",
    "        \n",
    "        self.reset_parameters()\n",
    "\n",
    "\n",
    "\n",
    "    def forward(self, state, action):\n",
    "        \"\"\"\n",
    "        Fordwards the input (state) through the whole network and returns the network's output.\n",
    "        ---------------------------------------------------------------------------------------\n",
    "        @Params:\tstate\t(torch.Tensor)\tStates.\n",
    "                    action\t(torch.Tensor)\tActions.\n",
    "        @Return:\t(torch.Tensor)\t\t\tQ-targets.\n",
    "        \"\"\"\n",
    "        xs = F.relu(self.fcs1(state))\n",
    "        x = torch.cat((xs, action), dim=1)\n",
    "        x = F.relu(self.fc2(x))\n",
    "\n",
    "        return self.fc3(x)\n",
    "\n",
    "\n",
    "\n",
    "    def reset_parameters(self):\n",
    "        \"\"\"\n",
    "        Resets weights.\n",
    "        ---------------\n",
    "        \"\"\"\n",
    "        self.fcs1.weight.data.uniform_(*hidden_init(self.fcs1))\n",
    "        self.fc2.weight.data.uniform_(*hidden_init(self.fc2))\n",
    "        self.fc3.weight.data.uniform_(-0.003, 0.003)"
   ]
  },
  {
   "cell_type": "markdown",
   "metadata": {},
   "source": [
    "##### 3.3.4. Noise"
   ]
  },
  {
   "cell_type": "code",
   "execution_count": 12,
   "metadata": {},
   "outputs": [],
   "source": [
    "class Noise(object):\n",
    "    \"\"\"\n",
    "    This class creates noise to the training process. It implements the Ornstein-Uhlenbeck process.\n",
    "    This class doesn't really have any superclass aside of object which is the top most superclass usually.\n",
    "    \"\"\"\n",
    "\n",
    "\n",
    "\n",
    "    def __init__(self, size, seed, mu=0.0, theta=0.15, sigma=0.2):\n",
    "        \"\"\"\n",
    "        Initializes the class.\n",
    "        ----------------------\n",
    "        @Params:\tsize\t(int)\tThe size of the noise.\n",
    "                    seed\t(int)\tRendom seed.\n",
    "                    mu\t\t(float)\t[optional] Base value of mu.\n",
    "                    theta\t(float)\t[optional] Value of theta.\n",
    "                    sigma\t(float)\t[optional] Value of sigma.\n",
    "        \"\"\"\n",
    "        self.mu = mu * np.ones(size)\n",
    "        self.theta = theta\n",
    "        self.sigma = sigma\n",
    "        self.size = size\n",
    "        \n",
    "        self.seed = random.seed(seed)\n",
    "        \n",
    "        self.reset()\n",
    "\n",
    "\n",
    "\n",
    "    def reset(self):\n",
    "        \"\"\"\n",
    "        Resets the class's state to the default.\n",
    "        ----------------------------------------\n",
    "        \"\"\"\n",
    "        self.state = copy.copy(self.mu)\n",
    "\n",
    "\n",
    "\n",
    "    def sample(self):\n",
    "        \"\"\"\n",
    "        Samples random noise from state and updates the state.\n",
    "        ------------------------------------------------------\n",
    "        @Return:\t(np.ndarray)\tNoise.\n",
    "        \"\"\"\n",
    "        x = self.state\n",
    "        dx = self.theta * (self.mu - x) + self.sigma * np.random.standard_normal(self.size)\n",
    "        self.state = x + dx\n",
    "        \n",
    "        return self.state"
   ]
  },
  {
   "cell_type": "markdown",
   "metadata": {},
   "source": [
    "##### 3.3.5. Replay buffer"
   ]
  },
  {
   "cell_type": "code",
   "execution_count": 13,
   "metadata": {},
   "outputs": [],
   "source": [
    "class ReplayBuffer(object):\n",
    "    \"\"\"\n",
    "    This class represents the experience of the agent.\n",
    "    This class doesn't really have any superclass aside of object which is the top most superclass usually.\n",
    "    \"\"\"\n",
    "\n",
    "\n",
    "\n",
    "    def __init__(self, action_size, buffer_size, batch_size, seed):\n",
    "        \"\"\"\n",
    "        Initializes the class.\n",
    "        ----------------------\n",
    "        @Params:\taction_size\t(int)\tCount of action's dimensions.\n",
    "                    buffer_size\t(int)\tSize of the actual buffer.\n",
    "                    batch_size\t(int)\tSize of training batches.\n",
    "                    seed\t\t(int)\tRendom seed.\n",
    "        \"\"\"\n",
    "        self.action_size = action_size\n",
    "        self.memory = deque(maxlen=buffer_size)\n",
    "        self.batch_size = batch_size\n",
    "        self.experience = namedtuple(\"Experience\", field_names=[\"state\", \"action\", \"reward\", \"next_state\", \"done\"])\n",
    "        \n",
    "        self.seed = random.seed(seed)\n",
    "\n",
    "\n",
    "\n",
    "    def add(self, state, action, reward, next_state, done):\n",
    "        \"\"\"\n",
    "        Adds a new experience to the memory.\n",
    "        ------------------------------------\n",
    "        @Params:\tstate\t\t(float)\tCurrent state.\n",
    "                    action\t\t(float)\tTaken action.\n",
    "                    reward\t\t(float)\tReceived reward.\n",
    "                    next_state\t(float)\tNext state (resulting state).\n",
    "                    done\t\t(float)\tWhether it's finished or not.\n",
    "        \"\"\"\n",
    "        newexperience = self.experience(state, action, reward, next_state, done)\n",
    "        self.memory.append(newexperience)\n",
    "\n",
    "\n",
    "\n",
    "    def sample(self):\n",
    "        \"\"\"\n",
    "        Samples random batches from the memory.\n",
    "        ---------------------------------------\n",
    "        @Return:\t(tuple)\tBatch\n",
    "        \"\"\"\n",
    "        global device\n",
    "\n",
    "        experiences = random.sample(self.memory, k=self.batch_size)\n",
    "\n",
    "        states = torch.from_numpy(np.vstack([e.state for e in experiences if e is not None])).float().to(device)\n",
    "        actions = torch.from_numpy(np.vstack([e.action for e in experiences if e is not None])).float().to(device)\n",
    "        rewards = torch.from_numpy(np.vstack([e.reward for e in experiences if e is not None])).float().to(device)\n",
    "        next_states = torch.from_numpy(np.vstack([e.next_state for e in experiences if e is not None])).float().to(device)\n",
    "        dones = torch.from_numpy(np.vstack([e.done for e in experiences if e is not None]).astype(np.uint8)).float().to(device)\n",
    "\n",
    "        return (states, actions, rewards, next_states, dones)\n",
    "\n",
    "\n",
    "\n",
    "    def __len__(self):\n",
    "        \"\"\"\n",
    "        Returns the size of the buffer's memory and ensures the compatibility with the len() function.\n",
    "        \"\"\"\n",
    "        return len(self.memory)"
   ]
  },
  {
   "cell_type": "markdown",
   "metadata": {},
   "source": [
    "#### 3.4. Helper functions"
   ]
  },
  {
   "cell_type": "code",
   "execution_count": 14,
   "metadata": {},
   "outputs": [],
   "source": [
    "def drawresults(scores, save_to=None):\n",
    "    \"\"\"\n",
    "    Draws and saves scores.\n",
    "    -----------------------\n",
    "    @Params:\tscores\t(list like)\tScores to display.\n",
    "                save_to\t(string)\t[optional] File name to save figure if given.\n",
    "    \"\"\"\n",
    "    fig, ax = plt.subplots(1, 1, figsize=[10, 5])\n",
    "    plt.rcParams.update({'font.size': 16})\n",
    "    scores_rolling = pd.Series(scores).rolling(100).mean()\n",
    "    ax.plot(scores)\n",
    "    ax.plot(scores_rolling, c=\"green\", linewidth=3)\n",
    "    ax.set_xlabel(\"Episodes\")\n",
    "    ax.set_ylabel(\"Score\")\n",
    "    ax.grid(which=\"major\")\n",
    "    ax.axhline(0.5, c=\"red\", linewidth=3)\n",
    "    ax.legend([\"Scores of episodes\", \"Average of last 100 episodes\", \"Target score=0.5\"])\n",
    "    \n",
    "    if save_to != None:\n",
    "        fig.savefig(save_to)\n",
    "\n",
    "\n",
    "\n",
    "def hidden_init(layer):\n",
    "    \"\"\"\n",
    "    Initializes a layer with the process of: 1.0 / sqrt(layer)\n",
    "    ----------------------------------------------------------\n",
    "    @Params:\tlayer\t(torch.Tensor)\tLayer to initialize.\n",
    "    @Return:\t(torch.Tensor)\t\t\tThe initialized layer.\n",
    "    \"\"\"\n",
    "    layer_n = layer.weight.data.size()[0]\n",
    "    lim = 1.0 / np.sqrt(layer_n)\n",
    "\n",
    "    return (-lim, lim)\n",
    "\n",
    "\n",
    "\n",
    "def train(episodes_count=50000, print_at_every=100):\n",
    "    \"\"\"\n",
    "    Performs the training\n",
    "    ---------------------\n",
    "    @Params:\tepisode_count\t(int)\t[optional] Count of episodes.\n",
    "                print_at_every\t(int)\t[optional] Length of the interval of episodes to log like print the result.\n",
    "    @Return:\t(list of ints)\t\t\tScores\n",
    "    \"\"\"\n",
    "    global agent\n",
    "    global brain_name\n",
    "    global env\n",
    "    global num_agents\n",
    "    \n",
    "    scores_deque = deque(maxlen=100)\n",
    "    all_scores = []\n",
    "    \n",
    "    # The value of episode is more human like this way since it changes from 1...x instead of 0...x-1 and\n",
    "    # shows the number of the actual episode just like humans understand more.\n",
    "    for episode in range(1, episodes_count+1):\n",
    "        env_info = env.reset(train_mode=True)[brain_name]\n",
    "        states = env_info.vector_observations\n",
    "        scores = np.zeros(num_agents)\n",
    "        \n",
    "        # The line below doesn't look like a cite from the book \"Best practices in loops\" but this time\n",
    "        # it'll serve just fine since someone should win anyway.\n",
    "        while True:\n",
    "            actions = agent.act(states)\n",
    "            env_info = env.step(actions)[brain_name]\n",
    "            next_states = env_info.vector_observations\n",
    "            rewards = env_info.rewards\n",
    "            dones = env_info.local_done\n",
    "            agent.step(states, actions, rewards, next_states, dones)\n",
    "            scores += np.array(rewards)\n",
    "            states = next_states            \n",
    "\n",
    "            # Break out from infinity if anyone finished this game.\n",
    "            if np.any(dones):\n",
    "                break\n",
    "        \n",
    "        scores_deque.append(np.amax(scores))\n",
    "        all_scores.append(np.amax(scores))\n",
    "        \n",
    "        print('\\rEpisode {:4d}:\\tAverage of last 100 scores is {:.4f}.\\tScore of agent_1:{:.4f}.\\tScore of agent_2:{:.4f}.  '\n",
    "              .format(episode, np.mean(scores_deque), scores[0], scores[1]), end='')\n",
    "                \n",
    "        if episode % print_at_every == 0:\n",
    "            print('\\rEpisode {:4d}:\\tAverage of last 100 scores is {:.4f}.\\tScore of agent_1:{:.4f}.\\tScore of agent_2:{:.4f}.  '\n",
    "                  .format(episode, np.mean(scores_deque), scores[0], scores[1]))\n",
    "                        \n",
    "        if np.mean(scores_deque) >= 0.5:\n",
    "            print('\\n\\nTraining finished.')\n",
    "            print('\\rEpisode {:4d}:\\tAverage of last 100 scores is {:.4f}.\\tScore of agent_1:{:.4f}.\\tScore of agent_2:{:.4f}.  '\n",
    "                  .format(episode, np.mean(scores_deque), scores[0], scores[1]))\n",
    "            torch.save(agent.actor_local.state_dict(), \"tennis_actor.pth\")\n",
    "            torch.save(agent.critic_local.state_dict(), \"tennis_critic.pth\")\n",
    "            break\n",
    "\n",
    "    return all_scores    "
   ]
  },
  {
   "cell_type": "markdown",
   "metadata": {},
   "source": [
    "#### 3.5. Let's touch those arms\n",
    "\n",
    "##### 3.5.1. Instantiate the agent"
   ]
  },
  {
   "cell_type": "code",
   "execution_count": 15,
   "metadata": {},
   "outputs": [],
   "source": [
    "agent = Agent(state_size=state_size, action_size=action_size, num_agents=num_agents, random_seed=RANDOM_SEED)"
   ]
  },
  {
   "cell_type": "markdown",
   "metadata": {},
   "source": [
    "##### 3.5.2. Train the agent"
   ]
  },
  {
   "cell_type": "code",
   "execution_count": 16,
   "metadata": {},
   "outputs": [
    {
     "name": "stdout",
     "output_type": "stream",
     "text": [
      "Episode  100:\tAverage of last 100 scores is 0.0020.\tScore of agent_1:0.0000.\tScore of agent_2:-0.0100.  \n",
      "Episode  200:\tAverage of last 100 scores is 0.0000.\tScore of agent_1:-0.0100.\tScore of agent_2:0.0000.  \n",
      "Episode  300:\tAverage of last 100 scores is 0.0000.\tScore of agent_1:0.0000.\tScore of agent_2:-0.0100.  \n",
      "Episode  400:\tAverage of last 100 scores is 0.0000.\tScore of agent_1:-0.0100.\tScore of agent_2:0.0000.  \n",
      "Episode  500:\tAverage of last 100 scores is 0.0000.\tScore of agent_1:0.0000.\tScore of agent_2:-0.0100.  \n",
      "Episode  600:\tAverage of last 100 scores is 0.0078.\tScore of agent_1:0.0000.\tScore of agent_2:-0.0100.  \n",
      "Episode  700:\tAverage of last 100 scores is 0.0155.\tScore of agent_1:0.0000.\tScore of agent_2:-0.0100.  \n",
      "Episode  800:\tAverage of last 100 scores is 0.0138.\tScore of agent_1:-0.0100.\tScore of agent_2:0.0000.  \n",
      "Episode  900:\tAverage of last 100 scores is 0.0010.\tScore of agent_1:0.0000.\tScore of agent_2:-0.0100.  \n",
      "Episode 1000:\tAverage of last 100 scores is 0.0000.\tScore of agent_1:-0.0100.\tScore of agent_2:0.0000.  \n",
      "Episode 1100:\tAverage of last 100 scores is 0.0000.\tScore of agent_1:0.0000.\tScore of agent_2:-0.0100.  \n",
      "Episode 1200:\tAverage of last 100 scores is 0.0000.\tScore of agent_1:0.0000.\tScore of agent_2:-0.0100.  \n",
      "Episode 1300:\tAverage of last 100 scores is 0.0030.\tScore of agent_1:0.0000.\tScore of agent_2:-0.0100.  \n",
      "Episode 1400:\tAverage of last 100 scores is 0.0010.\tScore of agent_1:0.0000.\tScore of agent_2:-0.0100.  \n",
      "Episode 1500:\tAverage of last 100 scores is 0.0241.\tScore of agent_1:0.1000.\tScore of agent_2:-0.0100.  \n",
      "Episode 1600:\tAverage of last 100 scores is 0.0469.\tScore of agent_1:0.1000.\tScore of agent_2:-0.0100.  \n",
      "Episode 1700:\tAverage of last 100 scores is 0.0784.\tScore of agent_1:-0.0100.\tScore of agent_2:0.1000.  \n",
      "Episode 1800:\tAverage of last 100 scores is 0.0838.\tScore of agent_1:0.1000.\tScore of agent_2:-0.0100.  \n",
      "Episode 1900:\tAverage of last 100 scores is 0.0960.\tScore of agent_1:0.1000.\tScore of agent_2:0.0900.   \n",
      "Episode 2000:\tAverage of last 100 scores is 0.0828.\tScore of agent_1:0.1000.\tScore of agent_2:-0.0100.  \n",
      "Episode 2100:\tAverage of last 100 scores is 0.1405.\tScore of agent_1:0.6000.\tScore of agent_2:0.4900.   \n",
      "Episode 2200:\tAverage of last 100 scores is 0.3887.\tScore of agent_1:0.6900.\tScore of agent_2:0.8000.   \n",
      "Episode 2300:\tAverage of last 100 scores is 0.2535.\tScore of agent_1:0.0900.\tScore of agent_2:0.2000.   \n",
      "Episode 2400:\tAverage of last 100 scores is 0.2792.\tScore of agent_1:-0.0100.\tScore of agent_2:0.0000.  \n",
      "Episode 2500:\tAverage of last 100 scores is 0.4277.\tScore of agent_1:-0.0100.\tScore of agent_2:0.0000.  \n",
      "Episode 2600:\tAverage of last 100 scores is 0.4141.\tScore of agent_1:0.7000.\tScore of agent_2:0.6900.   \n",
      "Episode 2632:\tAverage of last 100 scores is 0.5074.\tScore of agent_1:0.9000.\tScore of agent_2:0.7900.   \n",
      "\n",
      "Training finished.\n",
      "Episode 2632:\tAverage of last 100 scores is 0.5074.\tScore of agent_1:0.9000.\tScore of agent_2:0.7900.  \n"
     ]
    }
   ],
   "source": [
    "scores = train()"
   ]
  },
  {
   "cell_type": "markdown",
   "metadata": {},
   "source": [
    "##### 3.5.3. See the scores"
   ]
  },
  {
   "cell_type": "code",
   "execution_count": 17,
   "metadata": {},
   "outputs": [
    {
     "data": {
      "image/png": "[encoded data removed]",
      "text/plain": [
       "<Figure size 720x360 with 1 Axes>"
      ]
     },
     "metadata": {
      "needs_background": "light"
     },
     "output_type": "display_data"
    }
   ],
   "source": [
    "drawresults(scores, './tennis_scores.jpg')"
   ]
  },
  {
   "cell_type": "markdown",
   "metadata": {},
   "source": [
    "#### 3.6. Test the trained agent"
   ]
  },
  {
   "cell_type": "code",
   "execution_count": 18,
   "metadata": {},
   "outputs": [
    {
     "name": "stdout",
     "output_type": "stream",
     "text": [
      "if a well trained agent plays against itself, the mean of scores is 0.0950.\n"
     ]
    }
   ],
   "source": [
    "# This time I'll use standard random seed 0 to ignite random things again.\n",
    "agent = Agent(state_size=state_size, action_size=action_size, num_agents=num_agents, random_seed=0)\n",
    "\n",
    "agent.actor_local.load_state_dict(torch.load(\"tennis_actor.pth\"))\n",
    "agent.critic_local.load_state_dict(torch.load(\"tennis_critic.pth\"))\n",
    "\n",
    "env_info = env.reset(train_mode=False)[brain_name]\n",
    "states = env_info.vector_observations\n",
    "scores = np.zeros(num_agents)\n",
    "\n",
    "# Let's face the potential infinity once more.\n",
    "while True:\n",
    "    actions = agent.act(states)\n",
    "    env_info = env.step(actions)[brain_name]\n",
    "    next_states = env_info.vector_observations\n",
    "    rewards = env_info.rewards\n",
    "    dones = env_info.local_done\n",
    "    scores += env_info.rewards\n",
    "    states = next_states\n",
    "    \n",
    "    # Break out from infinity if anyone finished this game.\n",
    "    if np.any(dones):\n",
    "        break\n",
    "\n",
    "print('if a well trained agent plays against itself, the mean of scores is {:.4f}.'.format(np.mean(scores)))"
   ]
  },
  {
   "cell_type": "markdown",
   "metadata": {},
   "source": [
    "#### 3.7. The end"
   ]
  },
  {
   "cell_type": "code",
   "execution_count": 19,
   "metadata": {},
   "outputs": [],
   "source": [
    "env.close()"
   ]
  }
 ],
 "metadata": {
  "kernelspec": {
   "display_name": "Python 3",
   "language": "python",
   "name": "python3"
  },
  "language_info": {
   "codemirror_mode": {
    "name": "ipython",
    "version": 3
   },
   "file_extension": ".py",
   "mimetype": "text/x-python",
   "name": "python",
   "nbconvert_exporter": "python",
   "pygments_lexer": "ipython3",
   "version": "3.6.9"
  }
 },
 "nbformat": 4,
 "nbformat_minor": 2
}
